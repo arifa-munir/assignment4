{
 "cells": [
  {
   "cell_type": "code",
   "execution_count": 2,
   "id": "d7b5cb37",
   "metadata": {},
   "outputs": [
    {
     "name": "stdout",
     "output_type": "stream",
     "text": [
      "please  follow the instructions to cacuculate your values thankful:\n",
      "\n",
      "enter first num = 45\n",
      "enter operater :+\n",
      "enter second  num = 56\n",
      "101.0\n"
     ]
    }
   ],
   "source": [
    "# 1. Make a calculator using Python with addition , subtraction ,multiplication ,division and power.\n",
    "print(\"please  follow the instructions to cacuculate your values thankful:\\n\")\n",
    "num1=float(input(\"enter first num = \"))\n",
    "op=input(\"enter operater :\" )\n",
    "num2=float(input(\"enter second  num = \"))\n",
    "if op == \"+\":\n",
    "        print(num1+num2)\n",
    "elif op == \"-\":\n",
    "        print (num1-num2)\n",
    "elif op == \"*\":\n",
    "        print (num1*num2)\n",
    "elif op == \"/\":\n",
    "        print (num1/num2)\n",
    "elif op == \"**\":\n",
    "           \n",
    "        print(num1**num2)\n",
    "\n",
    "else:\n",
    "        print(\"please enter accourate values \")"
   ]
  },
  {
   "cell_type": "code",
   "execution_count": 5,
   "id": "96f04f9c",
   "metadata": {},
   "outputs": [
    {
     "name": "stdout",
     "output_type": "stream",
     "text": [
      "45\n",
      "95\n",
      "99\n",
      "36\n",
      "16\n",
      "5\n"
     ]
    }
   ],
   "source": [
    "# 2. Write a program to check if there is any numeric value in list using for loop.\n",
    "\n",
    "a=[45,95,99,36,16,5]\n",
    "for i in a:\n",
    "    print(i)"
   ]
  },
  {
   "cell_type": "code",
   "execution_count": 25,
   "id": "525a6547",
   "metadata": {},
   "outputs": [
    {
     "name": "stdout",
     "output_type": "stream",
     "text": [
      "{1: 'a', 2: 'b'}\n",
      "after adding key to dic \n",
      " {1: 'a', 2: 'b', 3: 'c'}\n"
     ]
    }
   ],
   "source": [
    "# 3. Write a Python script to add a key to a dictionary.\n",
    "dic={1:'a',2:'b'}\n",
    "print(dic)\n",
    "dic.update({3:'c'})\n",
    "print(\"after adding key to dic\",\"\\n\",dic )\n"
   ]
  },
  {
   "cell_type": "code",
   "execution_count": 24,
   "id": "4119b72b",
   "metadata": {},
   "outputs": [
    {
     "name": "stdout",
     "output_type": "stream",
     "text": [
      "sum of  all numeric number in list  205\n"
     ]
    }
   ],
   "source": [
    "# 4. Write a Python program to sum all the numeric items in a dictionary.\n",
    "dic={'a':39,'b':43,'c':45,'d':78}\n",
    "sum=0\n",
    "for i in dic.values():\n",
    "    sum=sum+i\n",
    "print(\"sum of  all numeric number in list\",\"\", sum)    "
   ]
  },
  {
   "cell_type": "code",
   "execution_count": 26,
   "id": "99111a41",
   "metadata": {},
   "outputs": [
    {
     "name": "stdout",
     "output_type": "stream",
     "text": [
      "[1, 2, 2, 6, 5, 8, 5, 8]\n",
      "1\n",
      "2\n",
      "2\n",
      "6\n",
      "5\n",
      "8\n",
      "5\n",
      "8\n",
      "[1, 2, 6, 5, 8]\n"
     ]
    }
   ],
   "source": [
    "# 5. Write a program to identify duplicate values from list.\n",
    "a = [1,2,2,6,5,8,5,8]\n",
    "print(a)\n",
    "def remove_duplicates(duplist):\n",
    "    noduplist = []\n",
    "    for element in duplist:\n",
    "        print(element)\n",
    "        if element not in noduplist:\n",
    "            noduplist.append(element)\n",
    "    return noduplist       \n",
    "print(remove_duplicates(a) )       \n"
   ]
  },
  {
   "cell_type": "code",
   "execution_count": 27,
   "id": "c3afc1f5",
   "metadata": {},
   "outputs": [
    {
     "name": "stdout",
     "output_type": "stream",
     "text": [
      "enetr key6\n",
      "key is not present\n"
     ]
    }
   ],
   "source": [
    "# 6. Write a Python script to check if a given key already exists in a dictionary\n",
    "d={1:23,2:45,3:56,4:45,5:78}\n",
    "def is_key_present(x):\n",
    "    if x in d:\n",
    "        print(\"key is present\")\n",
    "    else:\n",
    "        print(\"key is not present\")\n",
    "\n",
    "is_key_present(x=int(input(\"enetr key\")))\n"
   ]
  },
  {
   "cell_type": "code",
   "execution_count": null,
   "id": "6941e575",
   "metadata": {},
   "outputs": [],
   "source": []
  }
 ],
 "metadata": {
  "kernelspec": {
   "display_name": "Python 3",
   "language": "python",
   "name": "python3"
  },
  "language_info": {
   "codemirror_mode": {
    "name": "ipython",
    "version": 3
   },
   "file_extension": ".py",
   "mimetype": "text/x-python",
   "name": "python",
   "nbconvert_exporter": "python",
   "pygments_lexer": "ipython3",
   "version": "3.8.8"
  }
 },
 "nbformat": 4,
 "nbformat_minor": 5
}
